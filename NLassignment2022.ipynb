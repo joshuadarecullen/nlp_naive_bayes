{
 "cells": [
  {
   "cell_type": "markdown",
   "metadata": {
    "id": "f2S8I2ny-ovS"
   },
   "source": [
    "# ANLP Assignment: Sentiment Classification\n",
    "\n",
    "In this assignment, you will be investigating NLP methods for distinguishing positive and negative reviews written about movies.\n",
    "\n",
    "For assessment, you are expected to complete and submit this notebook file.  When answers require code, you may import and use library functions (unless explicitly told otherwise).  All of your own code should be included in the notebook rather than imported from elsewhere.  Written answers should also be included in the notebook.  You should insert as many extra cells as you want and change the type between code and markdown as appropriate.\n",
    "\n",
    "In order to avoid misconduct, you should not talk about the assignment questions with your peers.  If you are not sure what a question is asking you to do or have any other questions, please ask me or one of the Teaching Assistants.\n",
    "\n",
    "Marking guidelines are provided as a separate document.\n",
    "\n",
    "The first few cells contain code to set-up the assignment and bring in some data.   In order to provide unique datasets for analysis by different students, you must enter your candidate number in the following cell.  Otherwise do not change the code in these cells."
   ]
  },
  {
   "cell_type": "code",
   "execution_count": 1,
   "metadata": {
    "id": "1gXQAZas-l9c"
   },
   "outputs": [
    {
     "name": "stdout",
     "output_type": "stream",
     "text": [
      "This scored 35/40, which i feel was rather harsh\n"
     ]
    }
   ],
   "source": [
    "candidateno=237740\n",
    "print(f'This scored 35/40, which i feel was rather harsh')"
   ]
  },
  {
   "cell_type": "code",
   "execution_count": 25,
   "metadata": {
    "id": "nk8JTP88A8vs"
   },
   "outputs": [
    {
     "name": "stderr",
     "output_type": "stream",
     "text": [
      "[nltk_data] Downloading package punkt to /home/shmott/nltk_data...\n",
      "[nltk_data]   Package punkt is already up-to-date!\n",
      "[nltk_data] Downloading package stopwords to /home/shmott/nltk_data...\n",
      "[nltk_data]   Package stopwords is already up-to-date!\n",
      "[nltk_data] Downloading package movie_reviews to\n",
      "[nltk_data]     /home/shmott/nltk_data...\n",
      "[nltk_data]   Package movie_reviews is already up-to-date!\n"
     ]
    }
   ],
   "source": [
    "#do not change the code in this cell\n",
    "#preliminary imports\n",
    "\n",
    "#set up nltk\n",
    "import nltk\n",
    "nltk.download('punkt')\n",
    "nltk.download('stopwords')\n",
    "nltk.download('movie_reviews')\n",
    "from nltk.corpus import stopwords\n",
    "from nltk.tokenize import word_tokenize\n",
    "from nltk.corpus import movie_reviews\n",
    "\n",
    "#for setting up training and testing data\n",
    "import random\n",
    "\n",
    "#useful other tools\n",
    "import re\n",
    "import pandas as pd\n",
    "import matplotlib.pyplot as plt\n",
    "%matplotlib inline\n",
    "from itertools import zip_longest\n",
    "from nltk.probability import FreqDist\n",
    "from nltk.classify.api import ClassifierI"
   ]
  },
  {
   "cell_type": "code",
   "execution_count": 26,
   "metadata": {
    "id": "BHBkzAccCVaZ"
   },
   "outputs": [],
   "source": [
    "#do not change the code in this cell\n",
    "def split_data(data, ratio=0.7): # when the second argument is not given, it defaults to 0.7\n",
    "    \"\"\"\n",
    "    Given corpus generator and ratio:\n",
    "     - partitions the corpus into training data and test data, where the proportion in train is ratio,\n",
    "\n",
    "    :param data: A corpus generator.\n",
    "    :param ratio: The proportion of training documents (default 0.7)\n",
    "    :return: a pair (tuple) of lists where the first element of the \n",
    "            pair is a list of the training data and the second is a list of the test data.\n",
    "    \"\"\"\n",
    "    data = list(data)  \n",
    "    n = len(data)  \n",
    "    train_indices = random.sample(range(n), int(n * ratio))          \n",
    "    test_indices = list(set(range(n)) - set(train_indices))    \n",
    "    train = [data[i] for i in train_indices]           \n",
    "    test = [data[i] for i in test_indices]             \n",
    "    return (train, test)                       \n",
    " \n",
    "def get_train_test_data():\n",
    "    #get ids of positive and negative movie reviews\n",
    "    pos_review_ids=movie_reviews.fileids('pos')\n",
    "    neg_review_ids=movie_reviews.fileids('neg')\n",
    "   \n",
    "    #split positive and negative data into training and testing sets\n",
    "    pos_train_ids, pos_test_ids = split_data(pos_review_ids)\n",
    "    neg_train_ids, neg_test_ids = split_data(neg_review_ids)\n",
    "    #add labels to the data and concatenate\n",
    "    training = [(movie_reviews.words(f),'pos') for f in pos_train_ids]+[(movie_reviews.words(f),'neg') for f in neg_train_ids]\n",
    "    testing = [(movie_reviews.words(f),'pos') for f in pos_test_ids]+[(movie_reviews.words(f),'neg') for f in neg_test_ids]\n",
    "   \n",
    "    return training, testing"
   ]
  },
  {
   "cell_type": "markdown",
   "metadata": {
    "id": "1N3LWwBYICPP"
   },
   "source": [
    "When you have run the cell below, your unique training and testing samples will be stored in `training_data` and `testing_data`"
   ]
  },
  {
   "cell_type": "code",
   "execution_count": 27,
   "metadata": {
    "id": "HJLegkdPFUJA"
   },
   "outputs": [
    {
     "name": "stdout",
     "output_type": "stream",
     "text": [
      "The amount of training data is 1400\n",
      "The amount of testing data is 600\n",
      "The representation of a single data item is below\n"
     ]
    }
   ],
   "source": [
    "#do not change the code in this cell\n",
    "random.seed(candidateno)\n",
    "training_data,testing_data=get_train_test_data()\n",
    "print(\"The amount of training data is {}\".format(len(training_data)))\n",
    "print(\"The amount of testing data is {}\".format(len(testing_data)))\n",
    "print(\"The representation of a single data item is below\")"
   ]
  },
  {
   "cell_type": "markdown",
   "metadata": {
    "id": "RbTq6eGv2XT2"
   },
   "source": [
    "1)  \n",
    "a) **Generate** a list of 10 content words which are representative of the positive reviews in your training data.\n",
    "\n",
    "b) **Generate** a list of 10 content words which are representative of the negative reviews in your training data.\n",
    "\n",
    "c) **Explain** what you have done and why\n",
    "\n",
    "[20\\%]"
   ]
  },
  {
   "cell_type": "markdown",
   "metadata": {},
   "source": [
    "### 1. Preprocessing code:"
   ]
  },
  {
   "cell_type": "code",
   "execution_count": 5,
   "metadata": {},
   "outputs": [],
   "source": [
    "from nltk.stem import WordNetLemmatizer\n",
    "wnl = WordNetLemmatizer()\n",
    "\n",
    "def normalise(tokenlist):\n",
    "    # if token contains only digits -> 'NUM'\n",
    "    tokenlist=[\"NUM\" if token.isdigit() else token for token in tokenlist]\n",
    "    # token contains cardinal -> 'Nth'\n",
    "    tokenlist=[\"Nth\" if (token.endswith((\"nd\",\"st\",\"th\")) and token[:-2].isdigit()) else token for token in tokenlist]\n",
    "    # more normalising of different number and special character combos\n",
    "    tokenlist=[\"NUM\" if re.search(\"^[+-]?[0-9]+\\.[0-9]\",token) else token for token in tokenlist]\n",
    "    tokenlist=[token.lower() for token in tokenlist]\n",
    "    return tokenlist\n",
    "\n",
    "def filter_stopwords(tokenlist):\n",
    "    \"\"\"\n",
    "    filter stopwords and punctuation\n",
    "    \"\"\"\n",
    "    tokenlist = [t for t in tokenlist if t not in stopwords.words('english') and t.isalpha()]\n",
    "    return tokenlist\n",
    "\n",
    "def pre_process(data):\n",
    "    \"\"\"\n",
    "    Pre-process the given data\n",
    "    \"\"\"\n",
    "    # apply lower casing, eliminate stopwords and numbers\n",
    "    pre_process_docs = [(filter_stopwords(normalise(doc)), label) for (doc,label) in data]\n",
    "    \n",
    "    # apply lemmatisation using speech tagging\n",
    "    pre_process_docs = [(FreqDist([wnl.lemmatize(word) for word in doc]), label) for (doc,label) in pre_process_docs]\n",
    "    \n",
    "    return pre_process_docs "
   ]
  },
  {
   "cell_type": "markdown",
   "metadata": {},
   "source": [
    "### 1.0 Initial preprocessing"
   ]
  },
  {
   "cell_type": "code",
   "execution_count": 6,
   "metadata": {},
   "outputs": [],
   "source": [
    "# pre-process training and test data\n",
    "training_norm = pre_process(training_data)\n",
    "testing_norm = pre_process(testing_data)"
   ]
  },
  {
   "cell_type": "markdown",
   "metadata": {},
   "source": [
    "## 1(a,b): Code for Generating Content words"
   ]
  },
  {
   "cell_type": "code",
   "execution_count": 28,
   "metadata": {},
   "outputs": [],
   "source": [
    "def generate_content_words(data, k):\n",
    "    # frequency distribution for both classes\n",
    "    posfreq, negfreq = freq_dists(data)\n",
    "            \n",
    "    # grab the most frequent words for both classes, retaining frequency\n",
    "    mf_posfreq = most_frequent_words(posfreq, negfreq, k)\n",
    "    mf_negfreq = most_frequent_words(negfreq, posfreq, k)\n",
    "    \n",
    "    data = [mf_posfreq,\n",
    "            mf_negfreq,\n",
    "            posfreq.most_common(k),\n",
    "            negfreq.most_common(k)]\n",
    "    \n",
    "    return data\n",
    "\n",
    "# most frequent words between two frequency distributions\n",
    "def most_frequent_words(posfreq, negfreq, k):\n",
    "    return (posfreq-negfreq).most_common(k)\n",
    "\n",
    "def freq_dists(data):\n",
    "    '''\n",
    "    Returns a frequency distribution based\n",
    "    on the labels in the training data and their \n",
    "    corresponding word features\n",
    "    '''\n",
    "    posfreq = FreqDist()\n",
    "    negfreq = FreqDist()\n",
    "\n",
    "    # iterate data arg\n",
    "    for review, label in data:\n",
    "        # only two possible values, one check required\n",
    "        if label == 'pos':\n",
    "            posfreq += FreqDist(review)\n",
    "        else:\n",
    "            negfreq += FreqDist(review)\n",
    "            \n",
    "    return posfreq, negfreq"
   ]
  },
  {
   "cell_type": "markdown",
   "metadata": {},
   "source": [
    "### Generating ten content words for both of the class labels"
   ]
  },
  {
   "cell_type": "code",
   "execution_count": 29,
   "metadata": {},
   "outputs": [
    {
     "data": {
      "text/html": [
       "<div>\n",
       "<style scoped>\n",
       "    .dataframe tbody tr th:only-of-type {\n",
       "        vertical-align: middle;\n",
       "    }\n",
       "\n",
       "    .dataframe tbody tr th {\n",
       "        vertical-align: top;\n",
       "    }\n",
       "\n",
       "    .dataframe thead th {\n",
       "        text-align: right;\n",
       "    }\n",
       "</style>\n",
       "<table border=\"1\" class=\"dataframe\">\n",
       "  <thead>\n",
       "    <tr style=\"text-align: right;\">\n",
       "      <th></th>\n",
       "      <th>pos content words</th>\n",
       "      <th>freq</th>\n",
       "      <th>neg content words</th>\n",
       "      <th>freq</th>\n",
       "      <th>all_pos_freq</th>\n",
       "      <th>freq</th>\n",
       "      <th>all_neg_freq</th>\n",
       "      <th>freq</th>\n",
       "    </tr>\n",
       "  </thead>\n",
       "  <tbody>\n",
       "    <tr>\n",
       "      <th>0</th>\n",
       "      <td>film</td>\n",
       "      <td>891</td>\n",
       "      <td>bad</td>\n",
       "      <td>446</td>\n",
       "      <td>film</td>\n",
       "      <td>4286</td>\n",
       "      <td>film</td>\n",
       "      <td>3395</td>\n",
       "    </tr>\n",
       "    <tr>\n",
       "      <th>1</th>\n",
       "      <td>life</td>\n",
       "      <td>405</td>\n",
       "      <td>movie</td>\n",
       "      <td>381</td>\n",
       "      <td>movie</td>\n",
       "      <td>2352</td>\n",
       "      <td>movie</td>\n",
       "      <td>2733</td>\n",
       "    </tr>\n",
       "    <tr>\n",
       "      <th>2</th>\n",
       "      <td>also</td>\n",
       "      <td>338</td>\n",
       "      <td>plot</td>\n",
       "      <td>207</td>\n",
       "      <td>one</td>\n",
       "      <td>2221</td>\n",
       "      <td>one</td>\n",
       "      <td>1947</td>\n",
       "    </tr>\n",
       "    <tr>\n",
       "      <th>3</th>\n",
       "      <td>one</td>\n",
       "      <td>274</td>\n",
       "      <td>worst</td>\n",
       "      <td>141</td>\n",
       "      <td>num</td>\n",
       "      <td>1972</td>\n",
       "      <td>num</td>\n",
       "      <td>1920</td>\n",
       "    </tr>\n",
       "    <tr>\n",
       "      <th>4</th>\n",
       "      <td>best</td>\n",
       "      <td>270</td>\n",
       "      <td>nothing</td>\n",
       "      <td>130</td>\n",
       "      <td>character</td>\n",
       "      <td>1467</td>\n",
       "      <td>like</td>\n",
       "      <td>1350</td>\n",
       "    </tr>\n",
       "    <tr>\n",
       "      <th>5</th>\n",
       "      <td>great</td>\n",
       "      <td>264</td>\n",
       "      <td>look</td>\n",
       "      <td>127</td>\n",
       "      <td>like</td>\n",
       "      <td>1334</td>\n",
       "      <td>character</td>\n",
       "      <td>1220</td>\n",
       "    </tr>\n",
       "    <tr>\n",
       "      <th>6</th>\n",
       "      <td>performance</td>\n",
       "      <td>260</td>\n",
       "      <td>minute</td>\n",
       "      <td>123</td>\n",
       "      <td>time</td>\n",
       "      <td>1067</td>\n",
       "      <td>get</td>\n",
       "      <td>1034</td>\n",
       "    </tr>\n",
       "    <tr>\n",
       "      <th>7</th>\n",
       "      <td>story</td>\n",
       "      <td>257</td>\n",
       "      <td>stupid</td>\n",
       "      <td>121</td>\n",
       "      <td>scene</td>\n",
       "      <td>985</td>\n",
       "      <td>time</td>\n",
       "      <td>990</td>\n",
       "    </tr>\n",
       "    <tr>\n",
       "      <th>8</th>\n",
       "      <td>character</td>\n",
       "      <td>247</td>\n",
       "      <td>could</td>\n",
       "      <td>120</td>\n",
       "      <td>make</td>\n",
       "      <td>962</td>\n",
       "      <td>even</td>\n",
       "      <td>957</td>\n",
       "    </tr>\n",
       "    <tr>\n",
       "      <th>9</th>\n",
       "      <td>well</td>\n",
       "      <td>243</td>\n",
       "      <td>boring</td>\n",
       "      <td>114</td>\n",
       "      <td>get</td>\n",
       "      <td>953</td>\n",
       "      <td>scene</td>\n",
       "      <td>875</td>\n",
       "    </tr>\n",
       "  </tbody>\n",
       "</table>\n",
       "</div>"
      ],
      "text/plain": [
       "  pos content words  freq neg content words  freq all_pos_freq  freq  \\\n",
       "0              film   891               bad   446         film  4286   \n",
       "1              life   405             movie   381        movie  2352   \n",
       "2              also   338              plot   207          one  2221   \n",
       "3               one   274             worst   141          num  1972   \n",
       "4              best   270           nothing   130    character  1467   \n",
       "5             great   264              look   127         like  1334   \n",
       "6       performance   260            minute   123         time  1067   \n",
       "7             story   257            stupid   121        scene   985   \n",
       "8         character   247             could   120         make   962   \n",
       "9              well   243            boring   114          get   953   \n",
       "\n",
       "  all_neg_freq  freq  \n",
       "0         film  3395  \n",
       "1        movie  2733  \n",
       "2          one  1947  \n",
       "3          num  1920  \n",
       "4         like  1350  \n",
       "5    character  1220  \n",
       "6          get  1034  \n",
       "7         time   990  \n",
       "8         even   957  \n",
       "9        scene   875  "
      ]
     },
     "metadata": {},
     "output_type": "display_data"
    }
   ],
   "source": [
    "k = 10 #  wordlist length\n",
    "\n",
    "# generate content words based on frequency differences\n",
    "mf_pos, mf_neg, posfreq, negfreq = generate_content_words(training_norm, k)\n",
    "\n",
    "# Store labels of each class \n",
    "columns = ['pos content words', 'freq',\n",
    "           'neg content words', 'freq',\n",
    "           'all_pos_freq', 'freq',\n",
    "           'all_neg_freq', 'freq']\n",
    "\n",
    "# Store each list of pos and neg dists and thier respective k most frequent words\n",
    "data = []\n",
    "for i in range(k):\n",
    "    data.append((mf_pos[i][0], mf_pos[i][1],\n",
    "                 mf_neg[i][0], mf_neg[i][1],\n",
    "                 posfreq[i][0], posfreq[i][1], \n",
    "                 negfreq[i][0], negfreq[i][1]))\n",
    "\n",
    "# Display results with pandas dataframe\n",
    "freq_df = pd.DataFrame(data=data, columns=columns)\n",
    "display(freq_df) "
   ]
  },
  {
   "cell_type": "markdown",
   "metadata": {},
   "source": [
    "## 1c: Explanation"
   ]
  },
  {
   "cell_type": "markdown",
   "metadata": {},
   "source": [
    "Initial pre-processing steps were undertaken upon the movie review data set. Given the data is in list form and tokenised, the operations were focused on normalising the training and testing datasets by altering the cardinal and ordinal numbers in every feature to 'NUM' and 'Nth' respectively. Furthermore, all words were lower cased in order to avoid multiple occurances of the same word. This could cause a duplicate in regards to the k most frequent words lists if enough of a capitalised variant of a word occurs. In terms of the function call to 'normalise' in the list comprehension within the 'pre_process' function, this returns a list which is passed to the filter method. Here, the check on each token is undertaken against the english stop words provided by NLTK. The additional conditional statement implemented via Python's string method 'isaplha' essentially removes punctuation along with any other token comprised of a non character. These processing steps are based upon the fact that punctuation and stopwords do not pertain to a positive or negative sentiment. In the second phase of pre-processing, the NLTK lemmanisation library was used to look beyond word reduction and consider the language’s full vocabulary to apply a morphological analysis to the words in the data, aiming to remove inflectional endings only and to return the base or dictionary form of a word.\n",
    "\n",
    "The generation of the content words for determining the negative and positive sentiment of a document were generated using the normalised training data. The documents were split into two separate frequency distributions based upon the documents class label then the greatest frequency difference was calculated for both class labels and the top ten of these were taken for the content words."
   ]
  },
  {
   "cell_type": "markdown",
   "metadata": {
    "id": "TApOQE6vND20"
   },
   "source": [
    "2) \n",
    "a) **Use** the lists generated in Q1 to build a **word list classifier** which will classify reviews as being positive or negative.\n",
    "\n",
    "b) **Explain** what you have done.\n",
    "\n",
    "[12.5\\%]\n"
   ]
  },
  {
   "cell_type": "markdown",
   "metadata": {},
   "source": [
    "## 2a: Wordlist Classifier Code"
   ]
  },
  {
   "cell_type": "code",
   "execution_count": 30,
   "metadata": {
    "id": "BThDMrcmODJy"
   },
   "outputs": [],
   "source": [
    "class SimpleClassifier(ClassifierI): \n",
    "\n",
    "    def __init__(self, k): \n",
    "        self._pos = []\n",
    "        self._neg = []\n",
    "        self.k = k\n",
    "        \n",
    "    def classify(self, doc): \n",
    "        \n",
    "        score = 0\n",
    "        # iterate over key, value pairs in doc (freq dist)\n",
    "        for word, freq in doc.items():\n",
    "            if word in self._pos:\n",
    "                score+=1 # increment if word in pos list\n",
    "            elif word in self._neg:\n",
    "                score-=1 # decrement if word in neg list\n",
    "                \n",
    "        # check if score is 0\n",
    "        if not score:\n",
    "            return 'neg' if random.random() < 0.5 else 'pos'\n",
    "            \n",
    "        return 'neg' if score < 0 else 'pos'\n",
    "\n",
    "    def labels(self): \n",
    "        return ('pos', 'neg')\n",
    "    \n",
    "    def most_freq_words(self, posfreq, negfreq):\n",
    "        '''\n",
    "        greatest frequency difference between two dist \n",
    "        returning k most frequent upon the calculation\n",
    "        '''\n",
    "        return [w for w,_ in (posfreq-negfreq).most_common(self.k)]\n",
    "    \n",
    "    def train(self, data):\n",
    "        \n",
    "        pos_freq_dist = FreqDist()\n",
    "        neg_freq_dist = FreqDist()\n",
    "\n",
    "        # collect word frequency distribution for class labels\n",
    "        for review, label in data:\n",
    "            if label == 'pos':\n",
    "                pos_freq_dist += FreqDist(review)\n",
    "            else:\n",
    "                neg_freq_dist += FreqDist(review)\n",
    "        \n",
    "        # fetch the most frequent words difference for each class label\n",
    "        self._pos = self.most_freq_words(pos_freq_dist, neg_freq_dist)\n",
    "        self._neg = self.most_freq_words(neg_freq_dist, pos_freq_dist)\n",
    "        \n",
    "wordlist_classifier = SimpleClassifier(k)\n",
    "wordlist_classifier.train(training_norm)"
   ]
  },
  {
   "cell_type": "markdown",
   "metadata": {},
   "source": [
    "## 2b: code explanation"
   ]
  },
  {
   "cell_type": "markdown",
   "metadata": {},
   "source": [
    "The simple word classifier class contains four methods. The train method utilises the NLTK FreqDist method to collect the frequency of every word for the different class labels within the normalised training dataset. The 'most_frequent_words' method is called in the training process and uses the two class label word frequency distributions to calculate their respective greatest frequency difference distributions. The given k parameter is set to ten. This produces the same output of content words shown in question 1(a/b) and is set to a class variable respective to its class label. The 'classify' function takes a frequency distribution and iteratates over every word and its frequency (key, value) and checks if the word is in either of the positive or negative lists. Here, the score is either incremented by 1 for a positive hit or decremented by 1 for negative hit. If the word is not contained within either of the word lists then the score is left untouched. If after the document has been iterated fully through and the score is equal to zero then one class is randomly drawn."
   ]
  },
  {
   "cell_type": "markdown",
   "metadata": {},
   "source": [
    "3)\n",
    "a) **Calculate** the accuracy, precision, recall and F1 score of your classifier.\n",
    "\n",
    "b) Is it reasonable to evaluate the classifier in terms of its accuracy?  **Explain** your answer and give a counter-example (a scenario where it would / would not be reasonable to evaluate the classifier in terms of its accuracy).\n",
    "\n",
    "[20\\%]"
   ]
  },
  {
   "cell_type": "markdown",
   "metadata": {},
   "source": [
    "## 3a: Code"
   ]
  },
  {
   "cell_type": "code",
   "execution_count": 31,
   "metadata": {
    "id": "1LQc8bsA2XUI"
   },
   "outputs": [],
   "source": [
    "class ConfusionMatrix:\n",
    "    def __init__(self,predictions,goldstandard,classes=('pos','neg')):\n",
    "    \n",
    "        (self.c1,self.c2)=classes\n",
    "        self.TP=0\n",
    "        self.FP=0\n",
    "        self.FN=0\n",
    "        self.TN=0\n",
    "        \n",
    "        for p,g in zip(predictions,goldstandard):\n",
    "            if g==self.c1:\n",
    "                if p==self.c1: #  Both true and pred are correct\n",
    "                    self.TP+=1\n",
    "                else:\n",
    "                    self.FN+=1 # \n",
    "        \n",
    "            elif p==self.c1:\n",
    "                self.FP+=1\n",
    "            else:\n",
    "                self.TN+=1\n",
    "                \n",
    "    def accuracy(self):\n",
    "        acc = (self.TP+self.TN)/(self.FP+self.TP+self.FN+self.TN)\n",
    "        return acc\n",
    "    \n",
    "    def precision(self):\n",
    "        '''\n",
    "        The proportion of +ve predictions that are correct\n",
    "        '''\n",
    "        p=0\n",
    "        p = self.TP/(self.TP+self.FP)\n",
    "        return p\n",
    "  \n",
    "    def recall(self):\n",
    "        '''\n",
    "        The proportion of actually documents +ve that are predicted correctly\n",
    "        '''\n",
    "        r=0\n",
    "        r = self.TP/(self.TP+self.FN)\n",
    "        return r\n",
    "  \n",
    "    def f1(self):\n",
    "        '''\n",
    "        in general, we want both precision and recall to be high\n",
    "        This is the harmonic mean (and is always closer to the lower\n",
    "        of the two values)\n",
    "        '''\n",
    "        f1=0\n",
    "        p = self.precision()\n",
    "        r = self.recall()\n",
    "        f1=(2*p*r)/(p+r)\n",
    "        return f1 \n",
    "    \n",
    "    def get_all(self):\n",
    "        return self.accuracy(), self.f1(), self.precision(), self.recall()\n",
    "    \n",
    "    def get_matrix(self):\n",
    "        columns = ['Negative', 'Positive']\n",
    "        cm_data = [[self.TN, self.FP], [self.FN, self.TP]]\n",
    "        return pd.DataFrame(cm_data, index=columns, columns=columns)"
   ]
  },
  {
   "cell_type": "code",
   "execution_count": 32,
   "metadata": {},
   "outputs": [],
   "source": [
    "def display_metrics(cms, index=None):\n",
    "    columns = ['accuracy', 'F1', 'precision', 'recall']\n",
    "    # loop through each confusion matrix and collect the metrics using the class methods\n",
    "    cm_data = [[cm.accuracy(), cm.f1(), cm.precision(), cm.recall()] for cm in cms]\n",
    "    return pd.DataFrame(cm_data, index=index, columns=columns) # return dataframe\n",
    "\n",
    "def classifier_evaluate(cls, test_data):\n",
    "    docs,true=zip(*test_data) #  grab test docs and the true label\n",
    "    predictions=cls.classify_many(docs) # predict \n",
    "    return predictions, true"
   ]
  },
  {
   "cell_type": "markdown",
   "metadata": {},
   "source": [
    "## 3a. Code Desciption"
   ]
  },
  {
   "cell_type": "markdown",
   "metadata": {},
   "source": [
    "The confusion matrix class consists of six additional methods on top of the default initialising method. When instanciated, the true positive, false positive, true negative, and false negative are calculated from the given predictions and true labels. \n",
    "The methods:\n",
    "accuracy: the percentage of correct predictions of the classifier, \n",
    "precision: the percentage of positive predictions the classifier got correct,\n",
    "recall: the amount of actual positives the classifier predicts positive,\n",
    "F1: the balance between precision and recall."
   ]
  },
  {
   "cell_type": "markdown",
   "metadata": {},
   "source": [
    "### 3a. Wordlist  classifier metrics"
   ]
  },
  {
   "cell_type": "code",
   "execution_count": 33,
   "metadata": {},
   "outputs": [
    {
     "data": {
      "text/html": [
       "<div>\n",
       "<style scoped>\n",
       "    .dataframe tbody tr th:only-of-type {\n",
       "        vertical-align: middle;\n",
       "    }\n",
       "\n",
       "    .dataframe tbody tr th {\n",
       "        vertical-align: top;\n",
       "    }\n",
       "\n",
       "    .dataframe thead th {\n",
       "        text-align: right;\n",
       "    }\n",
       "</style>\n",
       "<table border=\"1\" class=\"dataframe\">\n",
       "  <thead>\n",
       "    <tr style=\"text-align: right;\">\n",
       "      <th></th>\n",
       "      <th>accuracy</th>\n",
       "      <th>F1</th>\n",
       "      <th>precision</th>\n",
       "      <th>recall</th>\n",
       "    </tr>\n",
       "  </thead>\n",
       "  <tbody>\n",
       "    <tr>\n",
       "      <th>Wordlist Classifier</th>\n",
       "      <td>0.596667</td>\n",
       "      <td>0.701235</td>\n",
       "      <td>0.556863</td>\n",
       "      <td>0.946667</td>\n",
       "    </tr>\n",
       "  </tbody>\n",
       "</table>\n",
       "</div>"
      ],
      "text/plain": [
       "                     accuracy        F1  precision    recall\n",
       "Wordlist Classifier  0.596667  0.701235   0.556863  0.946667"
      ]
     },
     "metadata": {},
     "output_type": "display_data"
    }
   ],
   "source": [
    "preds_test, gold = classifier_evaluate(wordlist_classifier, testing_norm)\n",
    "wl_cm = ConfusionMatrix(preds_test, gold)\n",
    "wl_mets = display_metrics([wl_cm], index = ['Wordlist Classifier'])\n",
    "display(wl_mets)"
   ]
  },
  {
   "cell_type": "code",
   "execution_count": 34,
   "metadata": {},
   "outputs": [
    {
     "data": {
      "text/html": [
       "<div>\n",
       "<style scoped>\n",
       "    .dataframe tbody tr th:only-of-type {\n",
       "        vertical-align: middle;\n",
       "    }\n",
       "\n",
       "    .dataframe tbody tr th {\n",
       "        vertical-align: top;\n",
       "    }\n",
       "\n",
       "    .dataframe thead th {\n",
       "        text-align: right;\n",
       "    }\n",
       "</style>\n",
       "<table border=\"1\" class=\"dataframe\">\n",
       "  <thead>\n",
       "    <tr style=\"text-align: right;\">\n",
       "      <th></th>\n",
       "      <th>Negative</th>\n",
       "      <th>Positive</th>\n",
       "    </tr>\n",
       "  </thead>\n",
       "  <tbody>\n",
       "    <tr>\n",
       "      <th>Negative</th>\n",
       "      <td>74</td>\n",
       "      <td>226</td>\n",
       "    </tr>\n",
       "    <tr>\n",
       "      <th>Positive</th>\n",
       "      <td>16</td>\n",
       "      <td>284</td>\n",
       "    </tr>\n",
       "  </tbody>\n",
       "</table>\n",
       "</div>"
      ],
      "text/plain": [
       "          Negative  Positive\n",
       "Negative        74       226\n",
       "Positive        16       284"
      ]
     },
     "metadata": {},
     "output_type": "display_data"
    }
   ],
   "source": [
    "wl_matrix = wl_cm.get_matrix()\n",
    "display(wl_matrix)"
   ]
  },
  {
   "cell_type": "markdown",
   "metadata": {},
   "source": [
    "## 3b:"
   ]
  },
  {
   "cell_type": "markdown",
   "metadata": {},
   "source": [
    "The accuracy of the wordlist classifier is around 0.035 off 60%, which is an improvement of nearly 10% on a random selection. Although, the precision indicates the classifier lacks the ability to distinguish positive sentiment. This is most likely down to the fact that the positive word list contains high frequency words from both class label distributions and results in negative documents being classified as positive. In regards to this, the classifier would score a higher accuracy if there was a significant inbalance towards positive sentiment reviews in the test data. For example, if 500/600 of the reviews were positive and 100/600 negative, with the current classifier the accuracy would be deceptively high due to its tendency towards false positives. Additionally, the importance of accuracy varys on what the classifier is predicting. If trying to predict cancerous tumors in people, false negatives are more servere than a false positives.  "
   ]
  },
  {
   "cell_type": "markdown",
   "metadata": {},
   "source": [
    "### Top ten frequent words and their position in the classes greatest frequency difference:"
   ]
  },
  {
   "cell_type": "code",
   "execution_count": 35,
   "metadata": {},
   "outputs": [],
   "source": [
    "# difference between two frequency distributions\n",
    "def difference(posfreq, negfreq):\n",
    "    return posfreq-negfreq\n",
    "\n",
    "def index_words(wordlist, data):\n",
    "    '''\n",
    "    indexing given words in the difference distributions,\n",
    "    returns the words and its frequency within each dist\n",
    "    '''\n",
    "    posfreq, negfreq = freq_dists(data)\n",
    "    posdiff = difference(posfreq, negfreq)\n",
    "    negdiff = difference(negfreq, posfreq)\n",
    "    return [[w, posdiff[w], negdiff[w]] for w in wordlist]\n",
    "\n",
    "def occur_inboth(posfreq, negfreq):\n",
    "    '''\n",
    "    Words that occur in both of the top 10 words pos/neg distrubutions\n",
    "    and there values after the difference calculations\n",
    "    '''\n",
    "    return [k for (k,v) in posfreq if k in dict(negfreq).keys()]"
   ]
  },
  {
   "cell_type": "code",
   "execution_count": 36,
   "metadata": {},
   "outputs": [
    {
     "data": {
      "text/html": [
       "<div>\n",
       "<style scoped>\n",
       "    .dataframe tbody tr th:only-of-type {\n",
       "        vertical-align: middle;\n",
       "    }\n",
       "\n",
       "    .dataframe tbody tr th {\n",
       "        vertical-align: top;\n",
       "    }\n",
       "\n",
       "    .dataframe thead th {\n",
       "        text-align: right;\n",
       "    }\n",
       "</style>\n",
       "<table border=\"1\" class=\"dataframe\">\n",
       "  <thead>\n",
       "    <tr style=\"text-align: right;\">\n",
       "      <th></th>\n",
       "      <th>words</th>\n",
       "      <th>posfreq</th>\n",
       "      <th>negfreq</th>\n",
       "    </tr>\n",
       "  </thead>\n",
       "  <tbody>\n",
       "    <tr>\n",
       "      <th>0</th>\n",
       "      <td>film</td>\n",
       "      <td>891</td>\n",
       "      <td>0</td>\n",
       "    </tr>\n",
       "    <tr>\n",
       "      <th>1</th>\n",
       "      <td>movie</td>\n",
       "      <td>0</td>\n",
       "      <td>381</td>\n",
       "    </tr>\n",
       "    <tr>\n",
       "      <th>2</th>\n",
       "      <td>one</td>\n",
       "      <td>274</td>\n",
       "      <td>0</td>\n",
       "    </tr>\n",
       "    <tr>\n",
       "      <th>3</th>\n",
       "      <td>num</td>\n",
       "      <td>52</td>\n",
       "      <td>0</td>\n",
       "    </tr>\n",
       "    <tr>\n",
       "      <th>4</th>\n",
       "      <td>character</td>\n",
       "      <td>247</td>\n",
       "      <td>0</td>\n",
       "    </tr>\n",
       "    <tr>\n",
       "      <th>5</th>\n",
       "      <td>like</td>\n",
       "      <td>0</td>\n",
       "      <td>16</td>\n",
       "    </tr>\n",
       "    <tr>\n",
       "      <th>6</th>\n",
       "      <td>time</td>\n",
       "      <td>77</td>\n",
       "      <td>0</td>\n",
       "    </tr>\n",
       "    <tr>\n",
       "      <th>7</th>\n",
       "      <td>scene</td>\n",
       "      <td>110</td>\n",
       "      <td>0</td>\n",
       "    </tr>\n",
       "    <tr>\n",
       "      <th>8</th>\n",
       "      <td>get</td>\n",
       "      <td>0</td>\n",
       "      <td>81</td>\n",
       "    </tr>\n",
       "  </tbody>\n",
       "</table>\n",
       "</div>"
      ],
      "text/plain": [
       "       words  posfreq  negfreq\n",
       "0       film      891        0\n",
       "1      movie        0      381\n",
       "2        one      274        0\n",
       "3        num       52        0\n",
       "4  character      247        0\n",
       "5       like        0       16\n",
       "6       time       77        0\n",
       "7      scene      110        0\n",
       "8        get        0       81"
      ]
     },
     "metadata": {},
     "output_type": "display_data"
    }
   ],
   "source": [
    "mf_inboth = index_words(occur_inboth(posfreq, negfreq), training_norm)\n",
    "both_df = pd.DataFrame(data=mf_inboth, columns=['words', 'posfreq', 'negfreq'])\n",
    "display(both_df) "
   ]
  },
  {
   "cell_type": "markdown",
   "metadata": {},
   "source": [
    "The table above confirms the assertion made in 3b and shows the highest frequency words that occur in both the class label distributions and their resulting frequency once their differences have been calculated. As seen, the positive word list contains more of the most frequent words in both class label distributions, pushing the classifier to predict more positive outcomes when the word lists are smaller."
   ]
  },
  {
   "cell_type": "markdown",
   "metadata": {
    "id": "LIS9UpmJNEAp"
   },
   "source": [
    "4) \n",
    "a)  **Construct** a Naive Bayes classifier (e.g., from NLTK).\n",
    "\n",
    "b)  **Compare** the performance of your word list classifier with the Naive Bayes classifier.  **Discuss** your results. \n",
    "\n",
    "[12.5\\%]"
   ]
  },
  {
   "cell_type": "markdown",
   "metadata": {},
   "source": [
    "## 4a:  Naive Bayes Classification"
   ]
  },
  {
   "cell_type": "markdown",
   "metadata": {},
   "source": [
    "### Feature extraction:"
   ]
  },
  {
   "cell_type": "code",
   "execution_count": 14,
   "metadata": {},
   "outputs": [],
   "source": [
    "# as we assume the testing data to be unknown, only get the vocab from training \n",
    "#vocab = FreqDist([w.lower() for w in r for r,_ in training_data])\n",
    "def get_vocab(data):\n",
    "    vocab = FreqDist()\n",
    "    for r, _ in data:\n",
    "        vocab+=r\n",
    "    return list(vocab.keys())\n",
    "\n",
    "# return the features and associated label for each document\n",
    "def get_features(data):\n",
    "    return [(find_features(rev), category) for (rev, category) in data]\n",
    "\n",
    "# creates a FreqDist({word: boolean}): True if a word from vocab is in the document, else False\n",
    "def find_features(document):\n",
    "    words = set(document) # grabs only keys from dict\n",
    "    return FreqDist({w:w in words for w in vocab})\n",
    "\n",
    "vocab = get_vocab(training_norm)\n",
    "featuresets = get_features(training_norm)\n",
    "testsets = get_features(testing_norm)\n",
    "\n",
    "# import nltk classifier\n",
    "from nltk import NaiveBayesClassifier #  posterior occurences * liklihood / evidence\n",
    "naive_classifier = NaiveBayesClassifier.train(featuresets)\n",
    "preds_nc = [naive_classifier.classify(doc) for doc,label in testsets]"
   ]
  },
  {
   "cell_type": "markdown",
   "metadata": {},
   "source": [
    "The NLTK Naive Bayes classifier method implements a multinomial Naive Bayes but only allows binary features. Hence, it requires the normalised training and testing data to have their features extracted. This is achieved by creating a known vocabulary list from the normalised training data which is used to determine if a word in a document is present or not. This comes into effect when features are being extracted from unlabelled reviews as words will be ignored by the classifier if false."
   ]
  },
  {
   "cell_type": "markdown",
   "metadata": {},
   "source": [
    "## 4b: Comparison with Wordlist CLassifier"
   ]
  },
  {
   "cell_type": "markdown",
   "metadata": {},
   "source": [
    "### Metric comparison:"
   ]
  },
  {
   "cell_type": "code",
   "execution_count": 15,
   "metadata": {},
   "outputs": [
    {
     "data": {
      "text/html": [
       "<div>\n",
       "<style scoped>\n",
       "    .dataframe tbody tr th:only-of-type {\n",
       "        vertical-align: middle;\n",
       "    }\n",
       "\n",
       "    .dataframe tbody tr th {\n",
       "        vertical-align: top;\n",
       "    }\n",
       "\n",
       "    .dataframe thead th {\n",
       "        text-align: right;\n",
       "    }\n",
       "</style>\n",
       "<table border=\"1\" class=\"dataframe\">\n",
       "  <thead>\n",
       "    <tr style=\"text-align: right;\">\n",
       "      <th></th>\n",
       "      <th>accuracy</th>\n",
       "      <th>F1</th>\n",
       "      <th>precision</th>\n",
       "      <th>recall</th>\n",
       "    </tr>\n",
       "  </thead>\n",
       "  <tbody>\n",
       "    <tr>\n",
       "      <th>Wordlist classifier</th>\n",
       "      <td>0.596667</td>\n",
       "      <td>0.701235</td>\n",
       "      <td>0.556863</td>\n",
       "      <td>0.946667</td>\n",
       "    </tr>\n",
       "    <tr>\n",
       "      <th>Naive Bayes classifier</th>\n",
       "      <td>0.786667</td>\n",
       "      <td>0.767273</td>\n",
       "      <td>0.844000</td>\n",
       "      <td>0.703333</td>\n",
       "    </tr>\n",
       "  </tbody>\n",
       "</table>\n",
       "</div>"
      ],
      "text/plain": [
       "                        accuracy        F1  precision    recall\n",
       "Wordlist classifier     0.596667  0.701235   0.556863  0.946667\n",
       "Naive Bayes classifier  0.786667  0.767273   0.844000  0.703333"
      ]
     },
     "metadata": {},
     "output_type": "display_data"
    }
   ],
   "source": [
    "nb_cm = ConfusionMatrix(preds_nc, gold)\n",
    "nb_metrics = display_metrics([wl_cm,nb_cm], index = ['Wordlist classifier', 'Naive Bayes classifier'])\n",
    "display(nb_metrics)"
   ]
  },
  {
   "cell_type": "markdown",
   "metadata": {},
   "source": [
    "### Naive Bayes Matrix:"
   ]
  },
  {
   "cell_type": "code",
   "execution_count": 17,
   "metadata": {},
   "outputs": [
    {
     "data": {
      "text/html": [
       "<div>\n",
       "<style scoped>\n",
       "    .dataframe tbody tr th:only-of-type {\n",
       "        vertical-align: middle;\n",
       "    }\n",
       "\n",
       "    .dataframe tbody tr th {\n",
       "        vertical-align: top;\n",
       "    }\n",
       "\n",
       "    .dataframe thead th {\n",
       "        text-align: right;\n",
       "    }\n",
       "</style>\n",
       "<table border=\"1\" class=\"dataframe\">\n",
       "  <thead>\n",
       "    <tr style=\"text-align: right;\">\n",
       "      <th></th>\n",
       "      <th>Negative</th>\n",
       "      <th>Positive</th>\n",
       "    </tr>\n",
       "  </thead>\n",
       "  <tbody>\n",
       "    <tr>\n",
       "      <th>Negative</th>\n",
       "      <td>261</td>\n",
       "      <td>39</td>\n",
       "    </tr>\n",
       "    <tr>\n",
       "      <th>Positive</th>\n",
       "      <td>89</td>\n",
       "      <td>211</td>\n",
       "    </tr>\n",
       "  </tbody>\n",
       "</table>\n",
       "</div>"
      ],
      "text/plain": [
       "          Negative  Positive\n",
       "Negative       261        39\n",
       "Positive        89       211"
      ]
     },
     "metadata": {},
     "output_type": "display_data"
    }
   ],
   "source": [
    "nb_matrix = nb_cm.get_matrix()\n",
    "display(nb_matrix)"
   ]
  },
  {
   "cell_type": "markdown",
   "metadata": {},
   "source": [
    "### Wordlist Matrix:"
   ]
  },
  {
   "cell_type": "code",
   "execution_count": 18,
   "metadata": {},
   "outputs": [
    {
     "data": {
      "text/html": [
       "<div>\n",
       "<style scoped>\n",
       "    .dataframe tbody tr th:only-of-type {\n",
       "        vertical-align: middle;\n",
       "    }\n",
       "\n",
       "    .dataframe tbody tr th {\n",
       "        vertical-align: top;\n",
       "    }\n",
       "\n",
       "    .dataframe thead th {\n",
       "        text-align: right;\n",
       "    }\n",
       "</style>\n",
       "<table border=\"1\" class=\"dataframe\">\n",
       "  <thead>\n",
       "    <tr style=\"text-align: right;\">\n",
       "      <th></th>\n",
       "      <th>Negative</th>\n",
       "      <th>Positive</th>\n",
       "    </tr>\n",
       "  </thead>\n",
       "  <tbody>\n",
       "    <tr>\n",
       "      <th>Negative</th>\n",
       "      <td>74</td>\n",
       "      <td>226</td>\n",
       "    </tr>\n",
       "    <tr>\n",
       "      <th>Positive</th>\n",
       "      <td>16</td>\n",
       "      <td>284</td>\n",
       "    </tr>\n",
       "  </tbody>\n",
       "</table>\n",
       "</div>"
      ],
      "text/plain": [
       "          Negative  Positive\n",
       "Negative        74       226\n",
       "Positive        16       284"
      ]
     },
     "metadata": {},
     "output_type": "display_data"
    }
   ],
   "source": [
    "display(wl_matrix)"
   ]
  },
  {
   "cell_type": "markdown",
   "metadata": {},
   "source": [
    "### Analysis:"
   ]
  },
  {
   "cell_type": "markdown",
   "metadata": {},
   "source": [
    "The Naive Bayes classifier out performs the wordlist classifier in all metrics except recall. The deception of the F1 score for the wordlist classifier is due to its high recall. The clear imbalance in regards to recall and precision is another indication of how accuracy cannot be the metric for use in measuring the quality of a model's predictions. Although, the high recall does reflect that the wordlist classifier captures more actual positives through labeling it as positive (true positive) than the Naive Bayes model. If the model had a high cost associated with false negative, recall would be the metric used and the wordlist classifier would be effective at avoiding these costs but not in how precise the positive predictions are. The Bayes model is more balanced when it comes to false predictions but hits higher false negatives than the wordlist model. This has resulted in more hits on true negatives and over 200 less classifications that are false positives."
   ]
  },
  {
   "cell_type": "code",
   "execution_count": 20,
   "metadata": {},
   "outputs": [
    {
     "name": "stdout",
     "output_type": "stream",
     "text": [
      "Most Informative Features\n",
      "               ludicrous = True              neg : pos    =     14.3 : 1.0\n",
      "               stupidity = True              neg : pos    =     14.3 : 1.0\n",
      "               insulting = True              neg : pos    =     11.7 : 1.0\n",
      "                  avoids = True              pos : neg    =     11.0 : 1.0\n",
      "               maintains = True              pos : neg    =     11.0 : 1.0\n",
      "                 idiotic = True              neg : pos    =      9.8 : 1.0\n",
      "                  darker = True              pos : neg    =      9.7 : 1.0\n",
      "           embarrassment = True              neg : pos    =      9.7 : 1.0\n",
      "             fascination = True              pos : neg    =      9.7 : 1.0\n",
      "                poignant = True              pos : neg    =      9.4 : 1.0\n"
     ]
    }
   ],
   "source": [
    "naive_classifier.show_most_informative_features(10)"
   ]
  },
  {
   "cell_type": "markdown",
   "metadata": {},
   "source": [
    "The top ten most informative features for the Naive Bayes indicate that it is not necessarily the frequency of words occuring in the documents that dictates the sentiment, but more nuaced words that are actually indicative of negative or positive sentiment."
   ]
  },
  {
   "cell_type": "markdown",
   "metadata": {
    "id": "LGDXaVDqOSfY"
   },
   "source": [
    "5) \n",
    "a) Design and **carry out an experiment** into the impact of the **length of the wordlists** on the wordlist classifier.  Make sure you **describe** design decisions in your experiment, include a **graph** of your results and **discuss** your conclusions. \n",
    "\n",
    "b) Would you **recommend** a wordlist classifier or a Naive Bayes classifier for future work in this area?  **Justify** your answer.\n",
    "\n",
    "[25\\%]\n"
   ]
  },
  {
   "cell_type": "markdown",
   "metadata": {},
   "source": [
    "## 5a:"
   ]
  },
  {
   "cell_type": "markdown",
   "metadata": {},
   "source": [
    "## Design"
   ]
  },
  {
   "cell_type": "markdown",
   "metadata": {},
   "source": [
    "The methodolgy of the test into the impacts of a varying word list on the metrics of a Wordlist classifier involed primarily increasing the amount of words contained in the positive and negative sentiment words lists of the wordlist classifier. For every k amount of words in the word list the classifier had its accuracy, F1, precision, and recall calculated and stored in order to track the metrics."
   ]
  },
  {
   "cell_type": "markdown",
   "metadata": {},
   "source": [
    "### Analysis of frequency distributions to determine upper range of wordlist length (k)"
   ]
  },
  {
   "cell_type": "code",
   "execution_count": 39,
   "metadata": {},
   "outputs": [],
   "source": [
    "def get_match(pos_data, neg_data):\n",
    "    equal_index = 0\n",
    "    # enumerating both frequncies\n",
    "    for i, (p,n) in enumerate(zip_longest(pos_data, neg_data)):\n",
    "        # check if freuncies are the same\n",
    "        '''\n",
    "        the second condition in the first if statement \n",
    "        essentially stops the if statement from being \n",
    "        true after the first match is found\n",
    "        '''\n",
    "        if p == n and not equal_index: \n",
    "            equal_index = i + 1, p\n",
    "        if p == 1 and n == 1:\n",
    "            one_index = i + 1, p\n",
    "            return equal_index, one_index"
   ]
  },
  {
   "cell_type": "code",
   "execution_count": 40,
   "metadata": {},
   "outputs": [
    {
     "data": {
      "image/png": "[encoded data removed]",
      "text/plain": [
       "<Figure size 1500x700 with 2 Axes>"
      ]
     },
     "metadata": {},
     "output_type": "display_data"
    }
   ],
   "source": [
    "# Grab the class label freq dists and calculate their difference dists\n",
    "posfreq, negfreq = freq_dists(training_norm)\n",
    "pos_diff = difference(posfreq, negfreq)\n",
    "neg_diff = difference(negfreq, posfreq)\n",
    "\n",
    "# create subplots to show both distributions\n",
    "fig, (ax1, ax2) = plt.subplots(1, 2, figsize=(15, 7), sharey=True, sharex=True)\n",
    "fig.suptitle('Greatest difference frequency distributions')\n",
    "\n",
    "# difference method returns a unordered frequency dist\n",
    "# change to values()? \n",
    "pos_data = sorted(pos_diff.values(), reverse=True)\n",
    "neg_data = sorted(neg_diff.values(), reverse=True)\n",
    "\n",
    "# plot data in subplots\n",
    "ax1.plot(pos_data) \n",
    "ax2.plot(neg_data)\n",
    "\n",
    "# set subplots titles and axes\n",
    "ax1.set_title('Positive Class Label')\n",
    "ax2.set_title('Negative Class Label')\n",
    "ax1.set_yticks(range(0,1000, 50))  # high precision y axes\n",
    "\n",
    "# plot shared data\n",
    "axes = [ax1, ax2]\n",
    "equal_index, one_index = get_match(pos_data, neg_data)\n",
    "for ax in axes:\n",
    "    ax.scatter(equal_index[0], equal_index[1], color = 'r') #  where they become equal\n",
    "    ax.scatter(one_index[0], one_index[1], color = 'g') #  where they both become one\n",
    "    ax.set(xlabel='Samples', ylabel='Frequency') #  x and y labels\n",
    "\n",
    "plt.legend(['freq dist', 'first equal', 'both one'])\n",
    "plt.show()"
   ]
  },
  {
   "cell_type": "markdown",
   "metadata": {},
   "source": [
    "The choice of the range of k was selected to see the effects of the frequencies of the words in the wordlist as they become less in each of the class label frequency distributions. As shown, the positive most frequent words contain 'film' which drags the intital y position to two times that of the negative. The fact that 'film' occurs nearly a thousand more in the postive class label documents would be significant if it was not ubiquitous in the negative documents aswell. Also, the positive has more hapax legomenon and a larger vocabulary size. The negative distribution curve plateaus before the positive distribution which will result in higher numbers of k producing more false positives. The upper range of k was chosen to be 1500 due to the little variation in frequency of the words beyond this point. If only occuring once or twice through all the documents then it is unlikely to have any effect on the score for classifying."
   ]
  },
  {
   "cell_type": "markdown",
   "metadata": {},
   "source": [
    "## Experiment:"
   ]
  },
  {
   "cell_type": "code",
   "execution_count": 44,
   "metadata": {},
   "outputs": [],
   "source": [
    "ks = range(1,1500) # list of increasing k's\n",
    "metric_data = [] # store metric data (acc,f1,precision,recall) for each k\n",
    "\n",
    "for k in ks:\n",
    "    # Instanciate and train classifier for given k\n",
    "    wordlist_classifier = SimpleClassifier(k)\n",
    "    wordlist_classifier.train(training_norm)\n",
    "    \n",
    "    # Predict classifier\n",
    "    preds_test, gold = classifier_evaluate(wordlist_classifier, testing_norm)\n",
    "    \n",
    "    # Calculate and store metrics\n",
    "    cm = ConfusionMatrix(preds_test, gold)\n",
    "    metric_data.append([cm.get_all()])"
   ]
  },
  {
   "cell_type": "markdown",
   "metadata": {},
   "source": [
    "### Results:"
   ]
  },
  {
   "cell_type": "code",
   "execution_count": 45,
   "metadata": {
    "id": "xFeOWIRm2XUQ"
   },
   "outputs": [
    {
     "data": {
      "image/png": "[encoded data removed]",
      "text/plain": [
       "<Figure size 1100x700 with 1 Axes>"
      ]
     },
     "metadata": {},
     "output_type": "display_data"
    }
   ],
   "source": [
    "import numpy as np\n",
    "metrics =  np.asarray(metric_data).squeeze() # reducing the dimensions\n",
    "plt.figure(figsize=(11,7))\n",
    "plt.plot(ks, metrics.squeeze())\n",
    "plt.title('Effects on Wordlist Classfier metrics over varying word list length (k) ')\n",
    "plt.yticks(np.linspace(0.5,1,11)) # higher precision y axes\n",
    "plt.xticks(np.linspace(0, 1500, 16))\n",
    "plt.xlabel('Word list length (k)')\n",
    "plt.ylabel('Score')\n",
    "plt.legend(['Accuracy','F1','Precision','Recall'], loc='upper right', bbox_to_anchor=(1, 0.7))\n",
    "plt.show()"
   ]
  },
  {
   "cell_type": "markdown",
   "metadata": {},
   "source": [
    "The results indicate significant impact on the classifiers accuracy, precision, and F1, with the classifier increasing its ability to classify negative documents as the word list increases from 10 to 50. As discussed previously, the positive word list contains some of the most frequents words in both class label frequency distributions. Hence, the shorter the word list the more effect this is going to have on the inability of the classifier to classify negative documents correctly, as can be seen when k is less than ten. Between 10 and 200, there is considerable shift in metric scores. An increase in precision, accuracy and F1 can be observed. Beyond 200 there is little change in any of the metrics, with precision and accuracy declining gradually as k increases. Recall shows little variation. It can be concluded that the sweet spot for the given wordlist classifier is between 20/30, where the words in the negative list have more effect in classification."
   ]
  },
  {
   "cell_type": "markdown",
   "metadata": {},
   "source": [
    "### Analysing best k for accuracy against initial k and Naive Bayes"
   ]
  },
  {
   "cell_type": "code",
   "execution_count": 52,
   "metadata": {},
   "outputs": [
    {
     "data": {
      "text/html": [
       "<div>\n",
       "<style scoped>\n",
       "    .dataframe tbody tr th:only-of-type {\n",
       "        vertical-align: middle;\n",
       "    }\n",
       "\n",
       "    .dataframe tbody tr th {\n",
       "        vertical-align: top;\n",
       "    }\n",
       "\n",
       "    .dataframe thead th {\n",
       "        text-align: right;\n",
       "    }\n",
       "</style>\n",
       "<table border=\"1\" class=\"dataframe\">\n",
       "  <thead>\n",
       "    <tr style=\"text-align: right;\">\n",
       "      <th></th>\n",
       "      <th>accuracy</th>\n",
       "      <th>F1</th>\n",
       "      <th>precision</th>\n",
       "      <th>recall</th>\n",
       "    </tr>\n",
       "  </thead>\n",
       "  <tbody>\n",
       "    <tr>\n",
       "      <th>Wordlist Classifier (k=10)</th>\n",
       "      <td>0.596667</td>\n",
       "      <td>0.701235</td>\n",
       "      <td>0.556863</td>\n",
       "      <td>0.946667</td>\n",
       "    </tr>\n",
       "    <tr>\n",
       "      <th>Worldlist Classifier (k=22)</th>\n",
       "      <td>0.690000</td>\n",
       "      <td>0.745205</td>\n",
       "      <td>0.632558</td>\n",
       "      <td>0.906667</td>\n",
       "    </tr>\n",
       "    <tr>\n",
       "      <th>Naive Bayes Classifier</th>\n",
       "      <td>0.786667</td>\n",
       "      <td>0.767273</td>\n",
       "      <td>0.844000</td>\n",
       "      <td>0.703333</td>\n",
       "    </tr>\n",
       "  </tbody>\n",
       "</table>\n",
       "</div>"
      ],
      "text/plain": [
       "                             accuracy        F1  precision    recall\n",
       "Wordlist Classifier (k=10)   0.596667  0.701235   0.556863  0.946667\n",
       "Worldlist Classifier (k=22)  0.690000  0.745205   0.632558  0.906667\n",
       "Naive Bayes Classifier       0.786667  0.767273   0.844000  0.703333"
      ]
     },
     "metadata": {},
     "output_type": "display_data"
    }
   ],
   "source": [
    "best_k = np.argmax(metrics[:,0])+1 # collecting the index for max accuracy which gives us the k\n",
    "wordlist_classifier = SimpleClassifier(best_k)\n",
    "wordlist_classifier.train(training_norm) \n",
    "preds_test, gold = classifier_evaluate(wordlist_classifier, testing_norm)\n",
    "wl_bestk_cm = ConfusionMatrix(preds_test, gold)\n",
    "all_mets = display_metrics([wl_cm, wl_bestk_cm, nb_cm],\n",
    "                             index = ['Wordlist Classifier (k=10)', \n",
    "                                      f'Worldlist Classifier (k={best_k})',\n",
    "                                      'Naive Bayes Classifier'])\n",
    "display(all_mets)"
   ]
  },
  {
   "cell_type": "code",
   "execution_count": 53,
   "metadata": {},
   "outputs": [
    {
     "data": {
      "text/html": [
       "<div>\n",
       "<style scoped>\n",
       "    .dataframe tbody tr th:only-of-type {\n",
       "        vertical-align: middle;\n",
       "    }\n",
       "\n",
       "    .dataframe tbody tr th {\n",
       "        vertical-align: top;\n",
       "    }\n",
       "\n",
       "    .dataframe thead th {\n",
       "        text-align: right;\n",
       "    }\n",
       "</style>\n",
       "<table border=\"1\" class=\"dataframe\">\n",
       "  <thead>\n",
       "    <tr style=\"text-align: right;\">\n",
       "      <th></th>\n",
       "      <th>Negative</th>\n",
       "      <th>Positive</th>\n",
       "    </tr>\n",
       "  </thead>\n",
       "  <tbody>\n",
       "    <tr>\n",
       "      <th>Negative</th>\n",
       "      <td>142</td>\n",
       "      <td>158</td>\n",
       "    </tr>\n",
       "    <tr>\n",
       "      <th>Positive</th>\n",
       "      <td>28</td>\n",
       "      <td>272</td>\n",
       "    </tr>\n",
       "  </tbody>\n",
       "</table>\n",
       "</div>"
      ],
      "text/plain": [
       "          Negative  Positive\n",
       "Negative       142       158\n",
       "Positive        28       272"
      ]
     },
     "metadata": {},
     "output_type": "display_data"
    }
   ],
   "source": [
    "bestk_matrix = wl_bestk_cm.get_matrix()\n",
    "display(bestk_matrix)"
   ]
  },
  {
   "cell_type": "markdown",
   "metadata": {},
   "source": [
    "Upon using the k that produces the best accuracy, it's shown the classifier produces higher true negatives than when k = 10 but still struggles with false positives which is reflected in the low precision. The 10% increase in accuracy still does not reflect on the models ability to determine a positive sentiment effectively. The wordlist classifer has its precision and recall opposite in comparison to the Naive Bayes and results in both producing a similar F1 score."
   ]
  },
  {
   "cell_type": "markdown",
   "metadata": {},
   "source": [
    "## 5b: "
   ]
  },
  {
   "cell_type": "markdown",
   "metadata": {},
   "source": [
    "The limitation of a wordlist classifier is shown by the Naive Bayes use of words that occur less or hapax legomenon, indicating frequency of a word does not pertain to being more informative as to the sentiment of a review. The greatest frequency difference technique for generating the content words associated with the positive or negative sentiment label has issues when a word has high frequency in both classes of reviews but is more frequent in one. This creates a distortion in the word's importance in classifying the specific label that the word has be associated. The Naive Bayes is not task specific in terms of binary classification task but has the issue of assuming every word is independent from each other, language is complex and words are dependent upon one another to create meaning and context. The Naive Bayes is a solid starting point in classifying sentiment and can be tweaked through mathematical techniques to overcome the assumption of independence between features and thus create a more complex model of the data."
   ]
  },
  {
   "cell_type": "code",
   "execution_count": 55,
   "metadata": {
    "colab": {
     "base_uri": "https://localhost:8080/",
     "height": 34
    },
    "id": "34rdlS_iPov6",
    "outputId": "06237f84-098e-4c36-efc5-52ab25d68da5"
   },
   "outputs": [
    {
     "name": "stdout",
     "output_type": "stream",
     "text": [
      "Submission length is 1671\n"
     ]
    }
   ],
   "source": [
    "##This code will word count all of the markdown cells in the notebook saved at filepath\n",
    "##Running it before providing any answers shows that the questions have a word count of 437\n",
    "\n",
    "import io\n",
    "from nbformat import current\n",
    "\n",
    "#filepath=\"/content/drive/My Drive/NLE Notebooks/assessment/assignment1.ipynb\"\n",
    "filepath=\"NLassignment2022.ipynb\"\n",
    "question_count=437\n",
    "\n",
    "with io.open(filepath, 'r', encoding='utf-8') as f:\n",
    "    nb = current.read(f, 'json')\n",
    "\n",
    "word_count = 0\n",
    "for cell in nb.worksheets[0].cells:\n",
    "    if cell.cell_type == \"markdown\":\n",
    "        word_count += len(cell['source'].replace('#', '').lstrip().split(' '))\n",
    "print(\"Submission length is {}\".format(word_count-question_count))"
   ]
  }
 ],
 "metadata": {
  "colab": {
   "provenance": []
  },
  "kernelspec": {
   "display_name": "Python 3 (ipykernel)",
   "language": "python",
   "name": "python3"
  },
  "language_info": {
   "codemirror_mode": {
    "name": "ipython",
    "version": 3
   },
   "file_extension": ".py",
   "mimetype": "text/x-python",
   "name": "python",
   "nbconvert_exporter": "python",
   "pygments_lexer": "ipython3",
   "version": "3.10.6"
  }
 },
 "nbformat": 4,
 "nbformat_minor": 1
}
